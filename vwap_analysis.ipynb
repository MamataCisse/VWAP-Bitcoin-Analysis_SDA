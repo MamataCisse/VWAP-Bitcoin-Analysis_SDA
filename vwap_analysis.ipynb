{
 "cells": [
  {
   "cell_type": "markdown",
   "metadata": {},
   "source": [
    "# Sujet:"
   ]
  },
  {
   "cell_type": "markdown",
   "metadata": {},
   "source": [
    "### L’objectif est de calculer les Volume Weighted Average Price horaires du Bitcoin, pour chacun des exchanges à disposition"
   ]
  },
  {
   "cell_type": "markdown",
   "metadata": {},
   "source": [
    "### INPUT:\n",
    "Vous aurez à disposition, sous forme de fichiers .csv, la liste des trades de bitcoin ayant eu lieu sur différents exchanges de Cryptomonnaies. Vous devrez importer les données issues des différents fichiers.\n",
    "### MANIPULATION DE DONNEES:\n",
    "Vous devrez ensuite modifier la structure des données pour répondre à vos besoins, probablement effectuer des jointures depuis les différents fichiers.\n",
    "### CALCUL:\n",
    "Enfin, une fois les données préparées, vous pourrez passer à l’étape de calcul des VWAP pour chaque tranche d’une heure, pour chaque exchange, puis au global (tous les exchanges réunis). Une fois le calcul effectué, vous pourrez nexporter vos résultats sous la forme d’un nouveau fichier .csv.\n",
    "Page Wikipédia du Volume Weighted Average Price  https://en.wikipedia.org/wiki/Volume weighted_average_price  VWAP = (∑(volume * prix)) / ∑volume\n",
    "### Avec :\n",
    "- 𝑃𝑉𝑊𝐴𝑃Le Prix Moyen Pondéré par le Volume.\n",
    "- 𝑃𝑗Le prix du trade j\n",
    "- 𝑄𝑗Le volume du trade\n",
    "- j représente chaque trade ayant eu lieu au sein d’un intervalle d’une heure.\n",
    "### Autres mesures à calculer :\n",
    "- Volume Weighted Median Price\n",
    "  - Page Wikipédia de la médiane pondérée : https://en.wikipedia.org/wiki/Weighted_median\n",
    "  - Créez une fonction qui vous permet de choisir le mode de calcul des cas particuliers ( lower upper ,,…) via un paramètre\n",
    "- Ecart type\n",
    "- OHLC\n",
    "### Calculez les mêmes métriques à des fréquences différentes\n",
    "- Intervalles de 5 minutes\n",
    "- Intervalles de 30 minutes\n",
    "\n",
    "### Vous devrez probablement gérer des valeurs manquantes. Expliquez vos choix !\n",
    "\n",
    "### Rendu:\n",
    "Le rendu du projet Python prendra la forme d’un jupyter Notebook.\n",
    "\n",
    "Ce Jupyter Notebook devra être composé de trois parties correspondant aux grandes étapes énoncées plus haut. Vous pouvez délimiter ces parties en les dénotant sous forme de titre de premier niveau. Les trois parties sont les\n",
    "### suivantes :\n",
    "- INPUT\n",
    "- MANIPULATION DES DONNEES\n",
    "- CALCUL\n",
    "\n",
    "Chacune des parties contiendra le code correspondant à l’étape, et l’une des dernières cellules devra afficher le\n",
    "résultat sous la forme d’un DataFrame Pandas (ou bien un DataFrame par mesure calculée).\n",
    "\n",
    "Comme précisé plus tôt, il sera important de stocker le résultat final sous la forme d’un (ou plusieurs) DataFrame Pandas\n",
    "\n",
    "Ce DataFrame devra donc, logiquement :\n",
    "\n",
    "- Être indexé par des dates\n",
    "- Avoir une ligne par heure de l’intervalle de temps des données fournies\n",
    "- Contenir une colonne par exchange contenant le VWAP horaire sur cet exchange\n",
    "- Contenir une colonne « globale » contenant le VWAP portant sur tous les trades , peu importe l’exchange\n",
    "\n",
    "Quelques derniers points :\n",
    "\n",
    "- Le Jupyter Notebook devra être totalement exécutable , sans générer\n",
    "- Placez des commentaires au sein de vos cellules de code, ou bien décrivez votre code dans des cellules de texte.\n",
    "- Le but est d’avoir une « documentation » de votre travail, afin que n’importe qui puisse comprendre rapidement votre code.\n"
   ]
  },
  {
   "cell_type": "markdown",
   "metadata": {},
   "source": [
    "# INPUT \n",
    "Dans cette première section, nous allons :\n",
    "\n",
    "- Importer les bibliothèques nécessaires\n",
    "- Charger les fichiers CSV depuis un dossier local"
   ]
  },
  {
   "cell_type": "code",
   "execution_count": 3,
   "metadata": {},
   "outputs": [],
   "source": [
    "import numpy as np # import de la librairairie numpy\n",
    "import pandas as pd  # import de Pandas"
   ]
  },
  {
   "cell_type": "code",
   "execution_count": 6,
   "metadata": {},
   "outputs": [],
   "source": [
    "#importer les fichiers csv \n",
    "df1 = pd.read_csv('C:/Users/mamat/VWAP_Bitcoin/VWAP-Bitcoin-Analysis_SDA/bfly.csv')\n",
    "df2 = pd.read_csv('C:/Users/mamat/VWAP_Bitcoin/VWAP-Bitcoin-Analysis_SDA/bfnx.csv')\n",
    "df3 = pd.read_csv('C:/Users/mamat/VWAP_Bitcoin/VWAP-Bitcoin-Analysis_SDA/bnus.csv')\n",
    "df4 = pd.read_csv('C:/Users/mamat/VWAP_Bitcoin/VWAP-Bitcoin-Analysis_SDA/btrx.csv')\n",
    "df5 = pd.read_csv('C:/Users/mamat/VWAP_Bitcoin/VWAP-Bitcoin-Analysis_SDA/cbse.csv')\n",
    "df6 = pd.read_csv('C:/Users/mamat/VWAP_Bitcoin/VWAP-Bitcoin-Analysis_SDA/gmni.csv')\n",
    "df7 = pd.read_csv('C:/Users/mamat/VWAP_Bitcoin/VWAP-Bitcoin-Analysis_SDA/itbi.csv')\n",
    "df8 = pd.read_csv('C:/Users/mamat/VWAP_Bitcoin/VWAP-Bitcoin-Analysis_SDA/krkn.csv')\n",
    "df9 = pd.read_csv('C:/Users/mamat/VWAP_Bitcoin/VWAP-Bitcoin-Analysis_SDA/lmax.csv')\n",
    "df10 = pd.read_csv('C:/Users/mamat/VWAP_Bitcoin/VWAP-Bitcoin-Analysis_SDA/okcn.csv')\n",
    "df11 = pd.read_csv('C:/Users/mamat/VWAP_Bitcoin/VWAP-Bitcoin-Analysis_SDA/stmp.csv')"
   ]
  }
 ],
 "metadata": {
  "kernelspec": {
   "display_name": "base",
   "language": "python",
   "name": "python3"
  },
  "language_info": {
   "codemirror_mode": {
    "name": "ipython",
    "version": 3
   },
   "file_extension": ".py",
   "mimetype": "text/x-python",
   "name": "python",
   "nbconvert_exporter": "python",
   "pygments_lexer": "ipython3",
   "version": "3.11.7"
  }
 },
 "nbformat": 4,
 "nbformat_minor": 2
}
